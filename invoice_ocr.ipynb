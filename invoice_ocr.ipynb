{
 "cells": [
  {
   "cell_type": "markdown",
   "metadata": {},
   "source": [
    "extracting and validating invoice data using OCR \n",
    "Code uses Tesseract OCR and Python"
   ]
  },
  {
   "cell_type": "code",
   "execution_count": 129,
   "metadata": {},
   "outputs": [],
   "source": [
    "import cv2  # OpenCV for image processing\n",
    "import pytesseract  # Tesseract for OCR\n",
    "from pytesseract import Output  # Output format for structured OCR results\n",
    "from PIL import Image  # Pillow for image manipulation\n",
    "import numpy as np  # NumPy for array manipulation\n",
    "import re  # Regular expressions for data validation"
   ]
  },
  {
   "cell_type": "code",
   "execution_count": 130,
   "metadata": {},
   "outputs": [],
   "source": [
    "#pytesseract.pytesseract.tesseract_cmd = r'C:\\Program Files\\Tesseract-OCR\\tesseract.exe'"
   ]
  },
  {
   "cell_type": "code",
   "execution_count": 131,
   "metadata": {},
   "outputs": [],
   "source": [
    "# Load the invoice image\n",
    "image_path = 'invoice_sample.jpg'\n",
    "image = cv2.imread(image_path)"
   ]
  },
  {
   "cell_type": "markdown",
   "metadata": {},
   "source": [
    "simplifying our data by converting our image into a single channel using grayscale which will also reduce the noise"
   ]
  },
  {
   "cell_type": "code",
   "execution_count": 132,
   "metadata": {},
   "outputs": [],
   "source": [
    "#Convert to grayscale to reduce complexity\n",
    "gray_image = cv2.cvtColor(image, cv2.COLOR_BGR2GRAY)"
   ]
  },
  {
   "cell_type": "code",
   "execution_count": 133,
   "metadata": {},
   "outputs": [],
   "source": [
    "# Step 2: Optional Gaussian blur to reduce noise\n",
    "blurred_image = cv2.GaussianBlur(gray_image, (5, 5), 0)"
   ]
  },
  {
   "cell_type": "markdown",
   "metadata": {},
   "source": [
    "applying thresholding to convert the grayscale images into binary where pixels are either white or black"
   ]
  },
  {
   "cell_type": "code",
   "execution_count": 134,
   "metadata": {},
   "outputs": [],
   "source": [
    "# Apply Otsu's thresholding\n",
    "thresh_image = cv2.adaptiveThreshold(blurred_image, 255, cv2.ADAPTIVE_THRESH_GAUSSIAN_C, cv2.THRESH_BINARY, 11, 2)\n"
   ]
  },
  {
   "cell_type": "markdown",
   "metadata": {},
   "source": [
    "further reduction of noise on our image by applying filtering technique => medianblur"
   ]
  },
  {
   "cell_type": "code",
   "execution_count": 135,
   "metadata": {},
   "outputs": [],
   "source": [
    "# Perform OCR on the processed image\n",
    "ocr_result = pytesseract.image_to_data(thresh_image, output_type=Output.DICT)"
   ]
  },
  {
   "cell_type": "code",
   "execution_count": 136,
   "metadata": {},
   "outputs": [
    {
     "name": "stdout",
     "output_type": "stream",
     "text": [
      "OCR Result:\n",
      " {'level': [1, 2, 3, 4, 5], 'page_num': [1, 1, 1, 1, 1], 'block_num': [0, 1, 1, 1, 1], 'par_num': [0, 0, 1, 1, 1], 'line_num': [0, 0, 0, 1, 1], 'word_num': [0, 0, 0, 0, 1], 'left': [0, 0, 0, 0, 0], 'top': [0, 0, 0, 0, 0], 'width': [1024, 1024, 1024, 1024, 1024], 'height': [1024, 1024, 1024, 1024, 1024], 'conf': [-1, -1, -1, -1, 95], 'text': ['', '', '', '', '']}\n"
     ]
    }
   ],
   "source": [
    "# Display the OCR result (raw text)\n",
    "print(\"OCR Result:\\n\", ocr_result)"
   ]
  },
  {
   "cell_type": "code",
   "execution_count": 137,
   "metadata": {},
   "outputs": [],
   "source": [
    "# Extract text from the detailed OCR result\n",
    "extracted_text = \" \".join([ocr_result['text'][i] for i in range(len(ocr_result['text'])) if int(ocr_result['conf'][i]) > 60])"
   ]
  },
  {
   "cell_type": "code",
   "execution_count": 138,
   "metadata": {},
   "outputs": [],
   "source": [
    "# Regular expressions for validating extracted data\n",
    "invoice_number_pattern = re.compile(r'Invoice\\s*Number[:\\s]*\\d+')\n",
    "invoice_date_pattern = re.compile(r'Date[:\\s]*\\d{1,2}[\\/\\.-]\\d{1,2}[\\/\\.-]\\d{2,4}')\n",
    "total_amount_pattern = re.compile(r'(?:Total Amount|Net Payable|Gross sale value)[:\\s]*\\d+[.,]?\\d*')"
   ]
  },
  {
   "cell_type": "code",
   "execution_count": 139,
   "metadata": {},
   "outputs": [],
   "source": [
    "# Validating extracted fields\n",
    "invoice_number = invoice_number_pattern.findall(extracted_text)\n",
    "invoice_date = invoice_date_pattern.findall(extracted_text)\n",
    "total_amount = total_amount_pattern.findall(extracted_text)\n"
   ]
  },
  {
   "cell_type": "code",
   "execution_count": 140,
   "metadata": {},
   "outputs": [
    {
     "data": {
      "text/plain": [
       "{'Invoice Number': 'Invalid',\n",
       " 'Invoice Date': 'Invalid',\n",
       " 'Total Amount': 'Invalid'}"
      ]
     },
     "execution_count": 140,
     "metadata": {},
     "output_type": "execute_result"
    }
   ],
   "source": [
    "# Results and Validation\n",
    "results = {\n",
    "    'Invoice Number': invoice_number[0] if invoice_number else 'Invalid',\n",
    "    'Invoice Date': invoice_date[0] if invoice_date else 'Invalid',\n",
    "    'Total Amount': total_amount[0] if total_amount else 'Invalid'\n",
    "}\n",
    "\n",
    "results\n"
   ]
  }
 ],
 "metadata": {
  "kernelspec": {
   "display_name": "Python 3",
   "language": "python",
   "name": "python3"
  },
  "language_info": {
   "codemirror_mode": {
    "name": "ipython",
    "version": 3
   },
   "file_extension": ".py",
   "mimetype": "text/x-python",
   "name": "python",
   "nbconvert_exporter": "python",
   "pygments_lexer": "ipython3",
   "version": "3.12.4"
  }
 },
 "nbformat": 4,
 "nbformat_minor": 2
}
