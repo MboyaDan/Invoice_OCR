{
 "cells": [
  {
   "cell_type": "markdown",
   "metadata": {},
   "source": [
    "extracting and validating invoice data using OCR \n",
    "Code uses Tesseract OCR and Python"
   ]
  },
  {
   "cell_type": "code",
   "execution_count": 2,
   "metadata": {},
   "outputs": [],
   "source": [
    "import cv2  # OpenCV for image processing\n",
    "import pytesseract  # Tesseract for OCR\n",
    "from pytesseract import Output  # Output format for structured OCR results\n",
    "from PIL import Image  # Pillow for image manipulation\n",
    "import numpy as np  # NumPy for array manipulation\n",
    "import re  # Regular expressions for data validation"
   ]
  },
  {
   "cell_type": "code",
   "execution_count": 3,
   "metadata": {},
   "outputs": [],
   "source": [
    "pytesseract.pytesseract.tesseract_cmd = r'C:\\Program Files\\Tesseract-OCR\\tesseract.exe'"
   ]
  },
  {
   "cell_type": "code",
   "execution_count": 4,
   "metadata": {},
   "outputs": [],
   "source": [
    "# Load the invoice image\n",
    "image_path = 'invoice5.jpg'\n",
    "image = cv2.imread(image_path)"
   ]
  },
  {
   "cell_type": "markdown",
   "metadata": {},
   "source": [
    "simplifying our data by converting our image into a single channel using grayscale which will also reduce the noise"
   ]
  },
  {
   "cell_type": "code",
   "execution_count": 5,
   "metadata": {},
   "outputs": [],
   "source": [
    "#Convert to grayscale to reduce complexity\n",
    "gray_image = cv2.cvtColor(image, cv2.COLOR_BGR2GRAY)"
   ]
  },
  {
   "cell_type": "markdown",
   "metadata": {},
   "source": [
    "applying thresholding to convert the grayscale images into binary where pixels are either white or black"
   ]
  },
  {
   "cell_type": "code",
   "execution_count": 6,
   "metadata": {},
   "outputs": [],
   "source": [
    "# Apply Otsu's thresholding\n",
    "_, thresh_image = cv2.threshold(gray_image, 0, 255, cv2.THRESH_BINARY + cv2.THRESH_OTSU)\n"
   ]
  },
  {
   "cell_type": "code",
   "execution_count": 7,
   "metadata": {},
   "outputs": [],
   "source": [
    "# Apply dilation to connect some of the broken letters\n",
    "kernel = cv2.getStructuringElement(cv2.MORPH_RECT, (2, 2))\n",
    "dilated_image = cv2.dilate(thresh_image, kernel, iterations=1)"
   ]
  },
  {
   "cell_type": "code",
   "execution_count": 8,
   "metadata": {},
   "outputs": [],
   "source": [
    "# Apply erosion to reduce noise after dilation\n",
    "eroded_image = cv2.erode(dilated_image, kernel, iterations=1)"
   ]
  },
  {
   "cell_type": "code",
   "execution_count": 9,
   "metadata": {},
   "outputs": [],
   "source": [
    "# Optional: resize the image to improve OCR accuracy\n",
    "resized_image = cv2.resize(eroded_image, None, fx=2, fy=2, interpolation=cv2.INTER_LINEAR)"
   ]
  },
  {
   "cell_type": "markdown",
   "metadata": {},
   "source": [
    "further reduction of noise on our image by applying filtering technique => medianblur"
   ]
  },
  {
   "cell_type": "code",
   "execution_count": 10,
   "metadata": {},
   "outputs": [],
   "source": [
    "processed_image = cv2.medianBlur(resized_image, 3)"
   ]
  },
  {
   "cell_type": "code",
   "execution_count": 11,
   "metadata": {},
   "outputs": [],
   "source": [
    "# Perform OCR on the processed image\n",
    "ocr_result = pytesseract.image_to_string(processed_image)"
   ]
  },
  {
   "cell_type": "code",
   "execution_count": 12,
   "metadata": {},
   "outputs": [
    {
     "name": "stdout",
     "output_type": "stream",
     "text": [
      "OCR Result:\n",
      " PER ot *~, ~\n",
      "CHANOARANA SUPERMA’.. ..° -\"O\n",
      "Sigonivuce Mal\n",
      "Sbecpersatsaces AAO L OP\n",
      "\n",
      "Ott A dvpomas POereecl\n",
      "finbanb:,\n",
      "\n",
      "Na.tobl, Kenya\n",
      "Pn 0793371973\n",
      "PO.Box 14078 00600 Naitobs\n",
      "Pin Ito PO00601 772P\n",
      "wic@chardalanasupermatkels co.ke\n",
      "TAX INVOICE\n",
      "\n",
      "————\n",
      "\n",
      "Customor; CASH\n",
      "Involee No. : 1101021017186 Dale : 29-Aug-2024\n",
      "\n",
      "Cashie + AmbeaMulheuN Time : 08. 198\n",
      "\n",
      "Ervin\n",
      "\n",
      "Session No: 1 TiWNo: 04\n",
      "Beserpion SOS —— “Sic! fax”\n",
      "Barcode Cty Price Amaunt__\n",
      "KARTASI CREENUFVCH ARCH FILE BK A\n",
      "4034674200022 100 24900 245.00\n",
      "YOSOGO CLIPBOARO W PEN CLIP C8 A\n",
      "0546452001867 200 we 00 693.00\n",
      "LUXOR COMBO PACK 1? ASSORTED! A\n",
      "9901089059292 100 «= 750.00 750.00\n",
      "FLOURESCENT PAFEH Ad A\n",
      "5019 1000 20000 200 00\n",
      "Nema: 4 Qty: 5.03 Ds 000 1807 00\n",
      "_ Gros sale Value : “T1997 OO\n",
      "Net Payable : 1e97 00\n",
      "Recelvod Amount: 1 897 00\n",
      "\n",
      "Balance Paid : G00\n",
      "\n",
      "PAYMENT DETAILS\n",
      "Equlty Credit Card . 1897.00\n",
      "\n",
      "14 Summary :-\n",
      "TaxO° pt? =. axable Aniount Tas Amount\n",
      "4 1035 34 261 68\n",
      ". 261 66\n",
      "\n",
      "CU Date 29-Aug-2024 8 19am\n",
      "CU Senal NO KRAMYV00920220809 /605\n",
      "CU Irvo ca No 00909/6050000 137671\n",
      "\n",
      "Printed on 23-Avg-2024 08 12 33\n",
      "\n"
     ]
    }
   ],
   "source": [
    "# Display the OCR result (raw text)\n",
    "print(\"OCR Result:\\n\", ocr_result)"
   ]
  },
  {
   "cell_type": "code",
   "execution_count": 13,
   "metadata": {},
   "outputs": [
    {
     "name": "stdout",
     "output_type": "stream",
     "text": [
      "Invoice Number: Not found\n"
     ]
    }
   ],
   "source": [
    "# 1. Extract the Invoice Number (Assumes a pattern like Invoice Number:)\n",
    "invoice_number_pattern = r'Invoice Number:\\s*\\d+'\n",
    "invoice_number = re.findall(invoice_number_pattern, ocr_result)\n",
    "# Extract the number part if found\n",
    "if invoice_number:\n",
    "    # Extract just the digits from the matched string\n",
    "    invoice_number = re.search(r'\\d+', invoice_number[0]).group()\n",
    "    print(\"Invoice Number:\", invoice_number)\n",
    "else:\n",
    "    print(\"Invoice Number: Not found\")"
   ]
  },
  {
   "cell_type": "code",
   "execution_count": 14,
   "metadata": {},
   "outputs": [
    {
     "name": "stdout",
     "output_type": "stream",
     "text": [
      "Invoice Date: Not found\n"
     ]
    }
   ],
   "source": [
    "# 2. Extract the Invoice Date (Assumes a date format like MM/DD/YYYY or similar)\n",
    "date_pattern = r'Date:\\s*(\\d{1,2}[\\/.-]\\d{1,2}[\\/.-]\\d{2,4}|\\d{1,2}\\s+\\w+\\s+\\d{4})'\n",
    "invoice_date = re.findall(date_pattern, ocr_result)\n",
    "print(\"Invoice Date:\", invoice_date[0] if invoice_date else \"Not found\")"
   ]
  },
  {
   "cell_type": "code",
   "execution_count": 15,
   "metadata": {},
   "outputs": [
    {
     "name": "stdout",
     "output_type": "stream",
     "text": [
      "Total Amount: Not found\n"
     ]
    }
   ],
   "source": [
    "# 3. Extract the Total Amount \n",
    "amount_pattern = r'(?:Taxable Amount|Gross sale value|Total Amount|Ksh)\\s*:\\s*(\\d+(?:,\\d{3})*(?:\\.\\d{2})?)'\n",
    "total_amount = re.findall(amount_pattern, ocr_result)\n",
    "print(\"Total Amount:\", total_amount[0] if total_amount else \"Not found\")"
   ]
  },
  {
   "cell_type": "code",
   "execution_count": 16,
   "metadata": {},
   "outputs": [
    {
     "name": "stdout",
     "output_type": "stream",
     "text": [
      "Invoice Number is invalid.\n"
     ]
    }
   ],
   "source": [
    "# Validate extracted data\n",
    "\n",
    "# 1. Validate Invoice Number (Check against a predefined format)\n",
    "if invoice_number and re.match(r'Invoice Number:\\s*\\d+', invoice_number[0]):\n",
    "    print(\"Invoice Number is valid.\")\n",
    "else:\n",
    "    print(\"Invoice Number is invalid.\")"
   ]
  },
  {
   "cell_type": "code",
   "execution_count": 17,
   "metadata": {},
   "outputs": [
    {
     "name": "stdout",
     "output_type": "stream",
     "text": [
      "Invoice Date is invalid.\n"
     ]
    }
   ],
   "source": [
    "# 2. Validate Date (Check for a valid date format)\n",
    "if invoice_date and re.match(r'Date:\\s*(\\d{1,2}[\\/.-]\\d{1,2}[\\/.-]\\d{2,4}|\\d{1,2}\\s+\\w+\\s+\\d{4})', invoice_date[0]):\n",
    "    print(\"Invoice Date is valid.\")\n",
    "else:\n",
    "    print(\"Invoice Date is invalid.\")"
   ]
  },
  {
   "cell_type": "code",
   "execution_count": 21,
   "metadata": {},
   "outputs": [
    {
     "name": "stdout",
     "output_type": "stream",
     "text": [
      "Total Amount is invalid.\n"
     ]
    }
   ],
   "source": [
    "# 3. Validate Total Amount (Check for a valid currency format)\n",
    "if total_amount and re.match( r'(?:Taxable Amount|Gross sale value|Total Amount|Ksh)\\s*:\\s*(\\d+(?:,\\d{3})*(?:\\.\\d{2})?)', total_amount[0]):\n",
    "    print(\"Total Amount is valid.\")\n",
    "else:\n",
    "    print(\"Total Amount is invalid.\")"
   ]
  },
  {
   "cell_type": "code",
   "execution_count": 19,
   "metadata": {},
   "outputs": [],
   "source": [
    "# Optional: Draw bounding boxes around detected text (visualization)\n",
    "detailed_ocr_result = pytesseract.image_to_data(processed_image, output_type=Output.DICT)\n",
    "n_boxes = len(detailed_ocr_result['level'])\n",
    "for i in range(n_boxes):\n",
    "    (x, y, w, h) = (detailed_ocr_result['left'][i], detailed_ocr_result['top'][i],\n",
    "                    detailed_ocr_result['width'][i], detailed_ocr_result['height'][i])\n",
    "    cv2.rectangle(image, (x, y), (x + w, y + h), (0, 255, 0), 2)"
   ]
  },
  {
   "cell_type": "code",
   "execution_count": 20,
   "metadata": {},
   "outputs": [],
   "source": [
    "# Save the image with bounding boxes (optional)\n",
    "cv2.imwrite('invoice_with_boxes.jpg', image)\n",
    "\n",
    "# Display the image with bounding boxes (optional)\n",
    "cv2.imshow('Invoice with Bounding Boxes', image)\n",
    "cv2.waitKey(0)  # Wait for a key press to close the window\n",
    "cv2.destroyAllWindows()"
   ]
  }
 ],
 "metadata": {
  "kernelspec": {
   "display_name": "Python 3",
   "language": "python",
   "name": "python3"
  },
  "language_info": {
   "codemirror_mode": {
    "name": "ipython",
    "version": 3
   },
   "file_extension": ".py",
   "mimetype": "text/x-python",
   "name": "python",
   "nbconvert_exporter": "python",
   "pygments_lexer": "ipython3",
   "version": "3.12.4"
  }
 },
 "nbformat": 4,
 "nbformat_minor": 2
}
